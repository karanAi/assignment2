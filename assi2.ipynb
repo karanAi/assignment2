{
 "cells": [
  {
   "cell_type": "code",
   "execution_count": 5,
   "id": "c397c8db-3ed9-469e-8d26-723b15f2ec1e",
   "metadata": {},
   "outputs": [
    {
     "name": "stdin",
     "output_type": "stream",
     "text": [
      "enter your marks  95\n"
     ]
    },
    {
     "name": "stdout",
     "output_type": "stream",
     "text": [
      "you will be a part of A batch\n"
     ]
    }
   ],
   "source": [
    "#q1.......\n",
    "marks = int(input(\"enter your marks \"))\n",
    "if marks > 90:\n",
    "    print(\"you will be a part of A batch\")\n",
    "elif marks > 80 and marks<= 90:\n",
    "    print(\"you will be a part of B batch\")\n",
    "elif marks >= 60 and marks <= 80 :\n",
    "    print(\"you will be a part of C batch \")\n",
    "else :\n",
    "    print(\"you will be a part of D batch \")\n",
    "    "
   ]
  },
  {
   "cell_type": "code",
   "execution_count": 11,
   "id": "b357c427-0556-41da-a25b-058d83529d1a",
   "metadata": {},
   "outputs": [
    {
     "name": "stdin",
     "output_type": "stream",
     "text": [
      "enter your bike price 75000\n"
     ]
    },
    {
     "name": "stdout",
     "output_type": "stream",
     "text": [
      "your road tex is 10%.\n"
     ]
    }
   ],
   "source": [
    "#Q2...........\n",
    "cost = int(input(\"enter your bike price\"))\n",
    "if cost > 100000:\n",
    "    print(\"your road tex is 15%.\")\n",
    "elif cost > 50000 and cost <= 100000:\n",
    "    print(\"your road tex is 10%.\")\n",
    "else :\n",
    "    print(\"your road tex is 5%.\")"
   ]
  },
  {
   "cell_type": "code",
   "execution_count": 19,
   "id": "5eeb5fbb-9f89-4553-b07d-9dc9bc354b84",
   "metadata": {},
   "outputs": [
    {
     "name": "stdin",
     "output_type": "stream",
     "text": [
      "enter the city name? Delhi\n"
     ]
    },
    {
     "name": "stdout",
     "output_type": "stream",
     "text": [
      "RED FORT.\n"
     ]
    }
   ],
   "source": [
    "#Q3.........\n",
    "city = str(input(\"enter the city name?\"))\n",
    "if city == \"Delhi\":\n",
    "           print(\"RED FORT.\")\n",
    "elif city == \"Agra\":\n",
    "    print(\"TAJ MAHAL\")\n",
    "elif city == \"Jaipur\":\n",
    "    print(\"JAL MAHAL\")\n",
    "else :\n",
    "    print(\"THe is city is not above in the list.\")\n",
    "           "
   ]
  },
  {
   "cell_type": "code",
   "execution_count": 21,
   "id": "f2ce7a64-9e99-497b-9f23-07f847978c50",
   "metadata": {},
   "outputs": [
    {
     "name": "stdin",
     "output_type": "stream",
     "text": [
      "Enter a number:  23\n"
     ]
    },
    {
     "name": "stdout",
     "output_type": "stream",
     "text": [
      "23 can be divided by 3 1 times before it is less than or equal to 10.\n"
     ]
    }
   ],
   "source": [
    "#Q4..........\n",
    "def divide_by_3(num):\n",
    "    count = 0\n",
    "    while num > 10:\n",
    "        num = num / 3\n",
    "        count += 1\n",
    "    return count\n",
    "\n",
    "number = int(input(\"Enter a number: \"))\n",
    "result = divide_by_3(number)\n",
    "print(f\"{number} can be divided by 3 {result} times before it is less than or equal to 10.\")\n",
    "\n",
    "\n"
   ]
  },
  {
   "cell_type": "code",
   "execution_count": 30,
   "id": "0c672d11-7d93-40de-90ad-7052e6bf5dbd",
   "metadata": {},
   "outputs": [
    {
     "name": "stdout",
     "output_type": "stream",
     "text": [
      "1\n",
      "2\n",
      "3\n",
      "4\n",
      "5\n",
      "6\n",
      "7\n",
      "8\n",
      "9\n",
      "10\n"
     ]
    }
   ],
   "source": [
    "#q5...........\n",
    "\n",
    "\"\"\"The while loop in Python is used to repeatedly execute a block of code as long as a given condition is true.\n",
    "It allows you to perform an action multiple times until a specific condition is met.\n",
    "\n",
    "Here's the syntax for a while loop in Python:\"\"\"\n",
    "\n",
    "# Example: Display the first 10 natural numbers\n",
    "\n",
    "i = 1\n",
    "while i <= 10:\n",
    "    print(i)\n",
    "    i = i + 1\n"
   ]
  },
  {
   "cell_type": "code",
   "execution_count": 28,
   "id": "fdae4878-6833-4a28-a673-e2609225a807",
   "metadata": {},
   "outputs": [
    {
     "name": "stdout",
     "output_type": "stream",
     "text": [
      "*\n",
      "**\n",
      "***\n",
      "****\n",
      "\n",
      "\n",
      "    *\n",
      "   **\n",
      "  ***\n",
      " ****\n",
      "\n",
      "\n",
      "****\n",
      "***\n",
      "**\n",
      "*\n"
     ]
    }
   ],
   "source": [
    "#Q6................\n",
    "\n",
    "\"\"\"Here are three different patterns that can be printed using nested while loops in Python:\"\"\"\n",
    "\n",
    "# Pattern 1\n",
    "# Output:\n",
    "# *\n",
    "# **\n",
    "# ***\n",
    "# ****\n",
    "\n",
    "i = 1\n",
    "while i <= 4:\n",
    "    j = 1\n",
    "    while j <= i:\n",
    "        print(\"*\", end=\"\")\n",
    "        j += 1\n",
    "    print(\"\")\n",
    "    i += 1\n",
    "\n",
    "print(\"\\n\")\n",
    "\n",
    "# Pattern 2\n",
    "# Output:\n",
    "#    *\n",
    "#   **\n",
    "#  ***\n",
    "# ****\n",
    "\n",
    "i = 1\n",
    "while i <= 4:\n",
    "    j = 4\n",
    "    while j >= i:\n",
    "        print(\" \", end=\"\")\n",
    "        j -= 1\n",
    "    j = 1\n",
    "    while j <= i:\n",
    "        print(\"*\", end=\"\")\n",
    "        j += 1\n",
    "    print(\"\")\n",
    "    i += 1\n",
    "\n",
    "print(\"\\n\")\n",
    "\n",
    "# Pattern 3\n",
    "# Output:\n",
    "# ****\n",
    "# ***\n",
    "# **\n",
    "# *\n",
    "\n",
    "i = 4\n",
    "while i >= 1:\n",
    "    j = 1\n",
    "    while j <= i:\n",
    "        print(\"*\", end=\"\")\n",
    "        j += 1\n",
    "    print(\"\")\n",
    "    i -= 1\n"
   ]
  },
  {
   "cell_type": "code",
   "execution_count": 32,
   "id": "32756389-b856-4045-ad49-b92ab54423db",
   "metadata": {},
   "outputs": [
    {
     "name": "stdout",
     "output_type": "stream",
     "text": [
      "10\n",
      "9\n",
      "8\n",
      "7\n",
      "6\n",
      "5\n",
      "4\n",
      "3\n",
      "2\n",
      "1\n"
     ]
    }
   ],
   "source": [
    "#q7................\n",
    "\n",
    "# Example: Display numbers from 10 to 1\n",
    "\n",
    "i = 10\n",
    "while i >= 1:\n",
    "    print(i)\n",
    "    i = i - 1\n",
    "\n"
   ]
  },
  {
   "cell_type": "code",
   "execution_count": null,
   "id": "341ea811-3b1a-4705-a4a4-81194bada44f",
   "metadata": {},
   "outputs": [],
   "source": []
  }
 ],
 "metadata": {
  "kernelspec": {
   "display_name": "Python 3 (ipykernel)",
   "language": "python",
   "name": "python3"
  },
  "language_info": {
   "codemirror_mode": {
    "name": "ipython",
    "version": 3
   },
   "file_extension": ".py",
   "mimetype": "text/x-python",
   "name": "python",
   "nbconvert_exporter": "python",
   "pygments_lexer": "ipython3",
   "version": "3.10.8"
  }
 },
 "nbformat": 4,
 "nbformat_minor": 5
}
